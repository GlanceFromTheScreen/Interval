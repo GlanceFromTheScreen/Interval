{
 "cells": [
  {
   "cell_type": "code",
   "execution_count": 47,
   "id": "5a8fa7d2",
   "metadata": {},
   "outputs": [],
   "source": [
    "from functools import singledispatchmethod"
   ]
  },
  {
   "cell_type": "markdown",
   "id": "6f059861",
   "metadata": {},
   "source": [
    "Матрица 2x2, [[a,b],[1,1]], eps=0.05, составить матрицу, где в левом столбце интервалы a+delta, b-delta,"
   ]
  },
  {
   "cell_type": "code",
   "execution_count": 48,
   "id": "4bb01a65",
   "metadata": {},
   "outputs": [],
   "source": [
    "eps = 0.05\n",
    "a = 1 + eps\n",
    "b = 1 - eps"
   ]
  },
  {
   "cell_type": "code",
   "execution_count": 49,
   "id": "3ce818ba",
   "metadata": {},
   "outputs": [],
   "source": [
    "class My_interval: \n",
    "    \n",
    "    def __init__(self, left, right):\n",
    "        self.left = left\n",
    "        self.right = right \n",
    "    \n",
    "    \n",
    "    @singledispatchmethod\n",
    "    def __add__(self, interval):\n",
    "        return My_interval(self.left + interval.left, self.right + interval.right)\n",
    "        \n",
    "        \n",
    "    @__add__.register(float)    \n",
    "    @__add__.register(int)\n",
    "    def _(self, a):\n",
    "        return My_interval(self.left+a, self.right+a) \n",
    "    \n",
    "    \n",
    "    @singledispatchmethod\n",
    "    def __mul__(self, interval):\n",
    "        arr = [self.left*interval.left, self.left*interval.right, self.right*interval.left, self.right*interval.right]\n",
    "        return My_interval(min(arr), max(arr))\n",
    "    \n",
    "    \n",
    "    @__mul__.register(int)    \n",
    "    @__mul__.register(float)\n",
    "    def _(self, a):\n",
    "        return My_interval(self.left*a, self.right*a)\n",
    "            \n",
    "            \n",
    "    @singledispatchmethod\n",
    "    def __sub__(self, interval):\n",
    "        return My_interval(self.left - interval.right, self.right - interval.left)\n",
    "        \n",
    "    @__add__.register(float)    \n",
    "    @__add__.register(int)\n",
    "    def _(self, a):\n",
    "        return My_interval(self.left-a, self.right-a) \n",
    "    \n",
    "    def __str__(self):\n",
    "        arr = [self.left,self.right]\n",
    "        return str(arr) \n",
    "    \n",
    "    "
   ]
  },
  {
   "cell_type": "code",
   "execution_count": 50,
   "id": "62e2cada",
   "metadata": {},
   "outputs": [
    {
     "name": "stdout",
     "output_type": "stream",
     "text": [
      "[3, 8]\n"
     ]
    }
   ],
   "source": [
    "interval1 = My_interval(1,2)\n",
    "interval2 = My_interval(3,4)\n",
    "\n",
    "print(interval1 * interval2)"
   ]
  },
  {
   "cell_type": "code",
   "execution_count": 51,
   "id": "8e893da5",
   "metadata": {},
   "outputs": [
    {
     "name": "stdout",
     "output_type": "stream",
     "text": [
      "[2.220446049250313e-16, 0.20000000000000007]\n"
     ]
    }
   ],
   "source": [
    "def my_func(delta, a, b, s, t):\n",
    "    a00 = My_interval(a-delta, a+delta)\n",
    "    a10 = My_interval(b-delta, b+delta)\n",
    "    a01 = My_interval(s-delta, s+delta)\n",
    "    a11 = My_interval(t-delta, t+delta)\n",
    "    determinanD = (a00 * a11) - (a10 * a01)\n",
    "    return determinanD\n",
    "\n",
    "print(my_func(0.025, 1.05, 0.95, 1, 1))"
   ]
  },
  {
   "cell_type": "code",
   "execution_count": 52,
   "outputs": [
    {
     "name": "stdout",
     "output_type": "stream",
     "text": [
      "[0.0, 0.20000000000000018]\n"
     ]
    }
   ],
   "source": [
    "def my_func_2(delta, a, b, s, t):\n",
    "    a00 = My_interval(a-delta, a+delta)\n",
    "    a10 = My_interval(b-delta, b+delta)\n",
    "    a01 = 1\n",
    "    a11 = 1\n",
    "    determinanD = (a00 * a11) - (a10 * a01)\n",
    "    return determinanD\n",
    "\n",
    "print(my_func_2(0.05, 1.05, 0.95, 1, 1))"
   ],
   "metadata": {
    "collapsed": false
   }
  },
  {
   "cell_type": "code",
   "execution_count": null,
   "outputs": [],
   "source": [],
   "metadata": {
    "collapsed": false
   }
  }
 ],
 "metadata": {
  "kernelspec": {
   "display_name": "Python 3 (ipykernel)",
   "language": "python",
   "name": "python3"
  },
  "language_info": {
   "codemirror_mode": {
    "name": "ipython",
    "version": 3
   },
   "file_extension": ".py",
   "mimetype": "text/x-python",
   "name": "python",
   "nbconvert_exporter": "python",
   "pygments_lexer": "ipython3",
   "version": "3.10.5"
  }
 },
 "nbformat": 4,
 "nbformat_minor": 5
}
